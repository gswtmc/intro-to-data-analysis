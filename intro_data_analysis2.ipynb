{
 "cells": [
  {
   "cell_type": "markdown",
   "metadata": {},
   "source": [
    "## NumPy and Pandas for 1D Data\n",
    "### One-Dimensional Data in NumPy and Pandas\n",
    "With pandas, loading will be much faster. Use a larger file, daily_engagement_full_.csv, as example."
   ]
  },
  {
   "cell_type": "code",
   "execution_count": 1,
   "metadata": {
    "collapsed": false
   },
   "outputs": [
    {
     "data": {
      "text/plain": [
       "1237"
      ]
     },
     "execution_count": 1,
     "metadata": {},
     "output_type": "execute_result"
    }
   ],
   "source": [
    "import pandas as pd\n",
    "daily_engagement = pd.read_csv('daily_engagement_full.csv')\n",
    "len(daily_engagement['acct'].unique())"
   ]
  },
  {
   "cell_type": "markdown",
   "metadata": {},
   "source": [
    "### NumPy Arrays\n",
    "NumPy and Pandas have a special data structure made to represent 1D data.\n",
    "NumPy 1D structure called Array, and Pandas 1D structure called Series (built on top of NumPy array).\n",
    "Pandas Series have more features while NumPy array is simpler.\n",
    "The data structure of array has similarities and differences with Python lists.\n",
    "\n",
    "E.g. NumPy array for US states: 'AL', 'AK', 'AZ',,,\n",
    "\n",
    "**Similarities**\n",
    "* Access elements by position\n",
    "    * a[0] --> 'AL'\n",
    "* Access a range of elements\n",
    "    * a[1:3] --> 'AK', 'AZ'\n",
    "* Use loops\n",
    "    * for x in a:\n",
    "\n",
    "**Differences**\n",
    "* Each element should have same datatype\n",
    "    * string, int, boolean, etc\n",
    "* Convenient functions\n",
    "    * mean(), std(), etc\n",
    "* Can be multi-dimensional"
   ]
  },
  {
   "cell_type": "markdown",
   "metadata": {},
   "source": [
    "### Vectorized Operations"
   ]
  },
  {
   "cell_type": "code",
   "execution_count": 3,
   "metadata": {
    "collapsed": false
   },
   "outputs": [
    {
     "name": "stdout",
     "output_type": "stream",
     "text": [
      "[5 7 9]\n",
      "[3 6 9]\n"
     ]
    }
   ],
   "source": [
    "import numpy as np\n",
    "\n",
    "# Vector Addition\n",
    "a = np.array([1,2,3])\n",
    "b = np.array([4,5,6])\n",
    "print a+b\n",
    "\n",
    "# Vector Multiplication\n",
    "print a*3"
   ]
  },
  {
   "cell_type": "markdown",
   "metadata": {},
   "source": [
    "There are more vectorized operations.\n",
    "\n",
    "* Math Operations\n",
    "    * Add: +\n",
    "    * Substract: -\n",
    "    * Multiply: *\n",
    "    * Divide: /\n",
    "    * Exponentiate: **\n",
    "\n",
    "* Logical Operations (make sure the arrays contain booleans)\n",
    "    * And: &\n",
    "    * Or: |\n",
    "    * Not: ~\n",
    "\n",
    "* Comparison Operations\n",
    "    * Greated: >\n",
    "    * Greater or equal: >=\n",
    "    * Less: <\n",
    "    * Less or equal: <=\n",
    "    * Equal: ==\n",
    "    * Not equal: !=    "
   ]
  },
  {
   "cell_type": "markdown",
   "metadata": {},
   "source": [
    "### NumPy Index Arrays"
   ]
  },
  {
   "cell_type": "code",
   "execution_count": 4,
   "metadata": {
    "collapsed": false
   },
   "outputs": [
    {
     "data": {
      "text/plain": [
       "41.054003485454537"
      ]
     },
     "execution_count": 4,
     "metadata": {},
     "output_type": "execute_result"
    }
   ],
   "source": [
    "'''\n",
    "Fill in the function to calculate the mean time spent in the classroom\n",
    "for students who stayed enrolled at least (greater than or equal to) 7 days.\n",
    "Assume that days_to_cancel will contain only integers (there are no students who have not canceled yet).\n",
    "    \n",
    "The arguments are NumPy arrays. time_spent contains the amount of time spent\n",
    "in the classroom for each student, and days_to_cancel contains the number\n",
    "of days until each student cancel. The data is given in the same order\n",
    "in both arrays.\n",
    "    '''\n",
    "\n",
    "def mean_time_for_paid_students(time_spent, days_to_cancel):\n",
    "    return time_spent[days_to_cancel >= 7].mean()\n",
    "\n",
    "# Time spent in the classroom in the first week for 20 students\n",
    "time_spent = np.array([\n",
    "       12.89697233,    0.        ,   64.55043217,    0.        ,\n",
    "       24.2315615 ,   39.991625  ,    0.        ,    0.        ,\n",
    "      147.20683783,    0.        ,    0.        ,    0.        ,\n",
    "       45.18261617,  157.60454283,  133.2434615 ,   52.85000767,\n",
    "        0.        ,   54.9204785 ,   26.78142417,    0.\n",
    "])\n",
    "\n",
    "# Days to cancel for 20 students\n",
    "days_to_cancel = np.array([\n",
    "      4,   5,  37,   3,  12,   4,  35,  38,   5,  37,   3,   3,  68,\n",
    "     38,  98,   2, 249,   2, 127,  35\n",
    "])\n",
    "\n",
    "mean_time_for_paid_students(time_spent, days_to_cancel)"
   ]
  },
  {
   "cell_type": "markdown",
   "metadata": {},
   "source": [
    "### In-Place vs. Not In-Place\n",
    "+= will modify the existing array, or in-place, while + will create a new array and then get updated. "
   ]
  },
  {
   "cell_type": "code",
   "execution_count": 5,
   "metadata": {
    "collapsed": false
   },
   "outputs": [
    {
     "name": "stdout",
     "output_type": "stream",
     "text": [
      "In-Place: [2 3 4 5]\n",
      "Not In-Place: [1 2 3 4]\n",
      "[100   2   3   4]\n"
     ]
    }
   ],
   "source": [
    "# Examples of in-place vs. not in-place\n",
    "a = np.array([1,2,3,4])\n",
    "b = a\n",
    "a+= np.array([1,1,1,1])\n",
    "print \"In-Place:\", b\n",
    "\n",
    "a = np.array([1,2,3,4])\n",
    "b = a\n",
    "a= a + np.array([1,1,1,1])\n",
    "print \"Not In-Place:\",b\n",
    "\n",
    "\n",
    "a = np.array([1,2,3,4])\n",
    "slice = a[:3] # Here it does not create a new array. It is just a snapshot, or view\n",
    "slice[0] = 100 # Because 'slice' is just a view, any modification made on the slice will reflect to the original array.\n",
    "print a"
   ]
  },
  {
   "cell_type": "markdown",
   "metadata": {},
   "source": [
    "### Pandas Series\n",
    "A series is similar to a NumPy array but with extra functionalities, such as s.describe()\n",
    "\n",
    "** Similarities to Array **\n",
    "* Accesssing elements\n",
    "* Looping\n",
    "* Convinient functions\n",
    "* Vectorized operations\n",
    "* Implemented in C (fast!)"
   ]
  },
  {
   "cell_type": "code",
   "execution_count": 6,
   "metadata": {
    "collapsed": false
   },
   "outputs": [
    {
     "data": {
      "text/plain": [
       "(17, 3)"
      ]
     },
     "execution_count": 6,
     "metadata": {},
     "output_type": "execute_result"
    }
   ],
   "source": [
    "'''\n",
    "Fill in the function, variable_correlation, to calculate the number of data points for which\n",
    "the directions of variable1 and variable2 relative to the mean are the same, \n",
    "and the number of data points for which they are different.\n",
    "Direction here means whether each value is above or below its mean.\n",
    "    \n",
    "You can classify cases where the value is equal to the mean for one or\n",
    "both variables however you like.\n",
    "    \n",
    "Each argument will be a Pandas series.\n",
    "\n",
    "'''\n",
    "countries = ['Albania', 'Algeria', 'Andorra', 'Angola', 'Antigua and Barbuda',\n",
    "             'Argentina', 'Armenia', 'Australia', 'Austria', 'Azerbaijan',\n",
    "             'Bahamas', 'Bahrain', 'Bangladesh', 'Barbados', 'Belarus',\n",
    "             'Belgium', 'Belize', 'Benin', 'Bhutan', 'Bolivia']\n",
    "\n",
    "life_expectancy_values = [74.7,  75. ,  83.4,  57.6,  74.6,  75.4,  72.3,  81.5,  80.2,\n",
    "                          70.3,  72.1,  76.4,  68.1,  75.2,  69.8,  79.4,  70.8,  62.7,\n",
    "                          67.3,  70.6]\n",
    "\n",
    "gdp_values = [ 1681.61390973,   2155.48523109,  21495.80508273,    562.98768478,\n",
    "              13495.1274663 ,   9388.68852258,   1424.19056199,  24765.54890176,\n",
    "              27036.48733192,   1945.63754911,  21721.61840978,  13373.21993972,\n",
    "                483.97086804,   9783.98417323,   2253.46411147,  25034.66692293,\n",
    "               3680.91642923,    366.04496652,   1175.92638695,   1132.21387981]\n",
    "\n",
    "life_expectancy = pd.Series(life_expectancy_values)\n",
    "gdp = pd.Series(gdp_values)\n",
    "\n",
    "def variable_correlation(variable1, variable2):\n",
    "    both_above = (variable1 > variable1.mean()) & (variable2 > variable2.mean())\n",
    "    both_below = (variable1 < variable1.mean()) & (variable2 < variable2.mean())\n",
    "    same_direction = both_above|both_below\n",
    "    num_same_direction = same_direction.sum()\n",
    "    num_diff_direction = len(variable1) - num_same_direction\n",
    "    \n",
    "    return (num_same_direction, num_diff_direction)\n",
    "\n",
    "\n",
    "variable_correlation(life_expectancy,gdp)    "
   ]
  },
  {
   "cell_type": "markdown",
   "metadata": {},
   "source": [
    "### Series Indexes\n",
    "A Pandas series is like a cross between a list and a dictionary: able to access by position or key"
   ]
  },
  {
   "cell_type": "code",
   "execution_count": 7,
   "metadata": {
    "collapsed": false
   },
   "outputs": [
    {
     "name": "stdout",
     "output_type": "stream",
     "text": [
      "Life expectancy in the country postion at 0: 74.7\n",
      "Life expectancy in the country index is Angola: 57.6\n"
     ]
    }
   ],
   "source": [
    "life_expectancy = pd.Series(life_expectancy_values, index = countries )\n",
    "\n",
    "print \"Life expectancy in the country postion at 0:\", life_expectancy.iloc[0]\n",
    "print \"Life expectancy in the country index is Angola:\", life_expectancy.loc['Angola']"
   ]
  },
  {
   "cell_type": "code",
   "execution_count": 8,
   "metadata": {
    "collapsed": false
   },
   "outputs": [
    {
     "data": {
      "text/plain": [
       "('Angola', 75.699996949999999)"
      ]
     },
     "execution_count": 8,
     "metadata": {},
     "output_type": "execute_result"
    }
   ],
   "source": [
    "'''\n",
    "Fill in the function to return the name of the country\n",
    "with the highest employment in the given employment\n",
    "data, and the employment in that country.\n",
    "\n",
    "'''\n",
    "\n",
    "countries = [\n",
    "    'Afghanistan', 'Albania', 'Algeria', 'Angola', 'Argentina',\n",
    "    'Armenia', 'Australia', 'Austria', 'Azerbaijan', 'Bahamas',\n",
    "    'Bahrain', 'Bangladesh', 'Barbados', 'Belarus', 'Belgium',\n",
    "    'Belize', 'Benin', 'Bhutan', 'Bolivia',\n",
    "    'Bosnia and Herzegovina'\n",
    "]\n",
    "\n",
    "\n",
    "employment_values = [\n",
    "    55.70000076,  51.40000153,  50.5       ,  75.69999695,\n",
    "    58.40000153,  40.09999847,  61.5       ,  57.09999847,\n",
    "    60.90000153,  66.59999847,  60.40000153,  68.09999847,\n",
    "    66.90000153,  53.40000153,  48.59999847,  56.79999924,\n",
    "    71.59999847,  58.40000153,  70.40000153,  41.20000076\n",
    "]\n",
    "\n",
    "employment = pd.Series(employment_values, index=countries)\n",
    "\n",
    "def max_employment(employment):\n",
    "    max_country = employment.argmax()      # Replace this with your code\n",
    "    max_value = employment.loc[max_country]   # Replace this with your code\n",
    "\n",
    "    return (max_country, max_value)\n",
    "\n",
    "max_employment(employment)"
   ]
  },
  {
   "cell_type": "markdown",
   "metadata": {},
   "source": [
    "### Filling Missing Values\n",
    "Write two sets of code:\n",
    "* add the 2 series together, and drop Nan, and\n",
    "* add the 2 series together, but treating missing values from either series as 0"
   ]
  },
  {
   "cell_type": "code",
   "execution_count": 9,
   "metadata": {
    "collapsed": false
   },
   "outputs": [
    {
     "name": "stdout",
     "output_type": "stream",
     "text": [
      "Drop:\n",
      "c    13.0\n",
      "d    24.0\n",
      "dtype: float64\n",
      "Fill:\n",
      "a     1.0\n",
      "b     2.0\n",
      "c    13.0\n",
      "d    24.0\n",
      "e    30.0\n",
      "f    40.0\n",
      "dtype: float64\n"
     ]
    }
   ],
   "source": [
    "s1 = pd.Series([1, 2, 3, 4], index=['a', 'b', 'c', 'd'])\n",
    "s2 = pd.Series([10, 20, 30, 40], index=['c', 'd', 'e', 'f'])\n",
    "sum_result = s1 + s2\n",
    "\n",
    "print \"Drop:\\n\",sum_result.dropna()\n",
    "print \"Fill:\\n\", s1.add(s2, fill_value = 0)"
   ]
  },
  {
   "cell_type": "markdown",
   "metadata": {},
   "source": [
    "### Pandas Series apply()\n",
    "apply() takes a series and a function, and returns a new series.\n",
    "Here is an example:"
   ]
  },
  {
   "cell_type": "code",
   "execution_count": 10,
   "metadata": {
    "collapsed": false
   },
   "outputs": [
    {
     "data": {
      "text/plain": [
       "0             Agassi, Andre\n",
       "1                Clark, Ian\n",
       "2            Curry, Stephen\n",
       "3             Durant, Kevin\n",
       "4           Green, Draymond\n",
       "5           Iguodala, Andre\n",
       "6             Jones, Damian\n",
       "7         Livingston, Shaun\n",
       "8             Looney, Kevon\n",
       "9     McAdoo, James-Michael\n",
       "10           McCaw, Patrick\n",
       "11            McGee, JaVale\n",
       "12           Pachulia, Zaza\n",
       "13           Thompson, Klay\n",
       "14        Varejao, Anderson\n",
       "15              West, David\n",
       "dtype: object"
      ]
     },
     "execution_count": 10,
     "metadata": {},
     "output_type": "execute_result"
    }
   ],
   "source": [
    "names = pd.Series([\n",
    "    'Andre Agassi',\n",
    "    'Ian Clark',\n",
    "    'Stephen Curry',\n",
    "    'Kevin Durant',\n",
    "    'Draymond Green',\n",
    "    'Andre Iguodala',\n",
    "    'Damian Jones',\n",
    "    'Shaun Livingston',\n",
    "    'Kevon Looney',\n",
    "    'James-Michael McAdoo',\n",
    "    'Patrick McCaw',\n",
    "    'JaVale McGee',\n",
    "    'Zaza Pachulia',\n",
    "    'Klay Thompson',\n",
    "    'Anderson Varejao',\n",
    "    'David West',\n",
    "])\n",
    "\n",
    "def reverse_name(name):\n",
    "    split_name = name.split(\" \")\n",
    "    first_name = split_name[0]\n",
    "    last_name = split_name[1]\n",
    "    return last_name + \", \" + first_name\n",
    "\n",
    "def reverse_names(names):\n",
    "    return names.apply(reverse_name)\n",
    "\n",
    "reverse_names(names)"
   ]
  },
  {
   "cell_type": "code",
   "execution_count": null,
   "metadata": {
    "collapsed": true
   },
   "outputs": [],
   "source": []
  }
 ],
 "metadata": {
  "kernelspec": {
   "display_name": "Python 2",
   "language": "python",
   "name": "python2"
  },
  "language_info": {
   "codemirror_mode": {
    "name": "ipython",
    "version": 2
   },
   "file_extension": ".py",
   "mimetype": "text/x-python",
   "name": "python",
   "nbconvert_exporter": "python",
   "pygments_lexer": "ipython2",
   "version": "2.7.12"
  }
 },
 "nbformat": 4,
 "nbformat_minor": 0
}
