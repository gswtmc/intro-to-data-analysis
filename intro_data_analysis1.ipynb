{
 "cells": [
  {
   "cell_type": "markdown",
   "metadata": {},
   "source": [
    "## Data Analysis Process\n",
    "### CSVs in Python"
   ]
  },
  {
   "cell_type": "code",
   "execution_count": 1,
   "metadata": {
    "collapsed": false
   },
   "outputs": [
    {
     "data": {
      "text/plain": [
       "({u'account_key': u'448',\n",
       "  u'cancel_date': u'2015-01-14',\n",
       "  u'days_to_cancel': u'65',\n",
       "  u'is_canceled': u'True',\n",
       "  u'is_udacity': u'True',\n",
       "  u'join_date': u'2014-11-10',\n",
       "  u'status': u'canceled'},\n",
       " {u'acct': u'0',\n",
       "  u'lessons_completed': u'0.0',\n",
       "  u'num_courses_visited': u'1.0',\n",
       "  u'projects_completed': u'0.0',\n",
       "  u'total_minutes_visited': u'11.6793745',\n",
       "  u'utc_date': u'2015-01-09'},\n",
       " {u'account_key': u'256',\n",
       "  u'assigned_rating': u'UNGRADED',\n",
       "  u'completion_date': u'2015-01-16',\n",
       "  u'creation_date': u'2015-01-14',\n",
       "  u'lesson_key': u'3176718735',\n",
       "  u'processing_state': u'EVALUATED'})"
      ]
     },
     "execution_count": 1,
     "metadata": {},
     "output_type": "execute_result"
    }
   ],
   "source": [
    "# enrollments = []\n",
    "# f = open(enrollments_filename, 'rb')\n",
    "# reader = unicodecsv.DictReader(f)\n",
    "# for row in reader:\n",
    "#     enrollments.append(row)\n",
    "# f.close()\n",
    "\n",
    "'''\n",
    "Write code similar to the above to load the engagement\n",
    "and submission data. Then print the first row of each\n",
    "table to make sure that your code works.\n",
    "'''\n",
    "\n",
    "\n",
    "import unicodecsv\n",
    "\n",
    "def read_csv(filename):\n",
    "    with open(filename, 'rb') as f:\n",
    "        reader = unicodecsv.DictReader(f)\n",
    "        return list(reader)\n",
    "\n",
    "enrollments = read_csv('enrollments.csv')\n",
    "daily_engagement = read_csv('daily_engagement.csv')\n",
    "project_submissions = read_csv('project_submissions.csv')\n",
    "\n",
    "\n",
    "enrollments[0], daily_engagement[0], project_submissions[0]    \n",
    "\n"
   ]
  },
  {
   "cell_type": "markdown",
   "metadata": {},
   "source": [
    "### Fixing Data Types"
   ]
  },
  {
   "cell_type": "code",
   "execution_count": 2,
   "metadata": {
    "collapsed": false
   },
   "outputs": [
    {
     "data": {
      "text/plain": [
       "{u'account_key': u'448',\n",
       " u'cancel_date': datetime.datetime(2015, 1, 14, 0, 0),\n",
       " u'days_to_cancel': 65,\n",
       " u'is_canceled': True,\n",
       " u'is_udacity': True,\n",
       " u'join_date': datetime.datetime(2014, 11, 10, 0, 0),\n",
       " u'status': u'canceled'}"
      ]
     },
     "execution_count": 2,
     "metadata": {},
     "output_type": "execute_result"
    }
   ],
   "source": [
    "from datetime import datetime as dt\n",
    "# Takes a date as a string, and returns a Python datetime object.\n",
    "# If there is no date given, returns None\n",
    "def parse_date(date):\n",
    "    if date == '':\n",
    "        return None\n",
    "    else:\n",
    "        return dt.strptime(str(date), '%Y-%m-%d')\n",
    "        \n",
    "# Takes a string which is either an empty string or represents an integer,\n",
    "    # and returns an int or None\n",
    "def parse_maybe_int(i):\n",
    "    if i == '':\n",
    "        return None\n",
    "    else:\n",
    "        return int(i)\n",
    "    \n",
    "# Clean up the data types in the enrollments table\n",
    "for enrollment in enrollments:\n",
    "    enrollment['cancel_date'] = parse_date(enrollment['cancel_date'])\n",
    "    enrollment['days_to_cancel'] = parse_maybe_int(enrollment['days_to_cancel'])\n",
    "    enrollment['is_canceled'] = enrollment['is_canceled'] == 'True'\n",
    "    enrollment['is_udacity'] = enrollment['is_udacity'] == 'True'\n",
    "    enrollment['join_date'] = parse_date(enrollment['join_date'])\n",
    "\n",
    "enrollments[0]"
   ]
  },
  {
   "cell_type": "code",
   "execution_count": 3,
   "metadata": {
    "collapsed": false
   },
   "outputs": [
    {
     "data": {
      "text/plain": [
       "{u'acct': u'0',\n",
       " u'lessons_completed': 0,\n",
       " u'num_courses_visited': 1,\n",
       " u'projects_completed': 0,\n",
       " u'total_minutes_visited': 11.6793745,\n",
       " u'utc_date': datetime.datetime(2015, 1, 9, 0, 0)}"
      ]
     },
     "execution_count": 3,
     "metadata": {},
     "output_type": "execute_result"
    }
   ],
   "source": [
    "# Clean up the data types in the engagement table\n",
    "for engagement_record in daily_engagement:\n",
    "    engagement_record['lessons_completed'] = int(float(engagement_record['lessons_completed']))\n",
    "    engagement_record['num_courses_visited'] = int(float(engagement_record['num_courses_visited']))\n",
    "    engagement_record['projects_completed'] = int(float(engagement_record['projects_completed']))\n",
    "    engagement_record['total_minutes_visited'] = float(engagement_record['total_minutes_visited'])\n",
    "    engagement_record['utc_date'] = parse_date(engagement_record['utc_date'])\n",
    "    \n",
    "daily_engagement[0]"
   ]
  },
  {
   "cell_type": "code",
   "execution_count": 4,
   "metadata": {
    "collapsed": false
   },
   "outputs": [
    {
     "data": {
      "text/plain": [
       "{u'account_key': u'256',\n",
       " u'assigned_rating': u'UNGRADED',\n",
       " u'completion_date': datetime.datetime(2015, 1, 16, 0, 0),\n",
       " u'creation_date': datetime.datetime(2015, 1, 14, 0, 0),\n",
       " u'lesson_key': u'3176718735',\n",
       " u'processing_state': u'EVALUATED'}"
      ]
     },
     "execution_count": 4,
     "metadata": {},
     "output_type": "execute_result"
    }
   ],
   "source": [
    "# Clean up the data types in the submissions table\n",
    "for submission in project_submissions:\n",
    "    submission['completion_date'] = parse_date(submission['completion_date'])\n",
    "    submission['creation_date'] = parse_date(submission['creation_date'])\n",
    "    \n",
    "project_submissions[0]"
   ]
  },
  {
   "cell_type": "markdown",
   "metadata": {},
   "source": [
    "### Investigating the Data"
   ]
  },
  {
   "cell_type": "code",
   "execution_count": 5,
   "metadata": {
    "collapsed": false
   },
   "outputs": [
    {
     "name": "stdout",
     "output_type": "stream",
     "text": [
      "Number of rows for enrollments table: 1640\n",
      "Number of unique students in enrollments table: 1302\n",
      "\n",
      "Number of rows for daily_engagement table: 136240\n",
      "Number of unique students in daily_engagement table: 1237\n",
      "\n",
      "Number of rows for project_submissions table: 3642\n",
      "Number of unique students in project_submissions table: 743\n"
     ]
    }
   ],
   "source": [
    "### For each of these three tables, find the number of rows in the table and\n",
    "### the number of unique students in the table. To find the number of unique\n",
    "### students, you might want to create a set of the account keys in each table.\n",
    "\n",
    "unique_students_enrollments = set()\n",
    "for enrollment in enrollments:\n",
    "    unique_students_enrollments.add(enrollment['account_key'])\n",
    "print \"Number of rows for enrollments table:\", len(enrollments)\n",
    "print \"Number of unique students in enrollments table:\", len(unique_students_enrollments)\n",
    "\n",
    "unique_students_engagemenet = set()\n",
    "for engagement in daily_engagement:\n",
    "    unique_students_engagemenet.add(engagement['acct'])\n",
    "print \"\\nNumber of rows for daily_engagement table:\", len(daily_engagement)\n",
    "print \"Number of unique students in daily_engagement table:\", len(unique_students_engagemenet)\n",
    "\n",
    "unique_students_submissions = set()\n",
    "for submission in project_submissions:\n",
    "    unique_students_submissions.add(submission['account_key'])\n",
    "print \"\\nNumber of rows for project_submissions table:\", len(project_submissions)\n",
    "print \"Number of unique students in project_submissions table:\", len(unique_students_submissions)\n",
    "\n"
   ]
  },
  {
   "cell_type": "markdown",
   "metadata": {},
   "source": [
    "### Problem in the Data\n",
    "Rename the 'acct' column to 'account_key' in the daily_engagemet table to match with other tables."
   ]
  },
  {
   "cell_type": "code",
   "execution_count": 6,
   "metadata": {
    "collapsed": false
   },
   "outputs": [
    {
     "data": {
      "text/plain": [
       "u'0'"
      ]
     },
     "execution_count": 6,
     "metadata": {},
     "output_type": "execute_result"
    }
   ],
   "source": [
    "for engagement in daily_engagement:\n",
    "    engagement['account_key'] = engagement['acct']\n",
    "    del engagement['acct']\n",
    "\n",
    "daily_engagement[0]['account_key']"
   ]
  },
  {
   "cell_type": "markdown",
   "metadata": {},
   "source": [
    "As the 'account_key' is matched across the tables, make the function to get the number of unique students."
   ]
  },
  {
   "cell_type": "code",
   "execution_count": 7,
   "metadata": {
    "collapsed": false
   },
   "outputs": [
    {
     "name": "stdout",
     "output_type": "stream",
     "text": [
      "All the results matches!\n"
     ]
    }
   ],
   "source": [
    "def get_unique_students(data):\n",
    "    unique_students = set()\n",
    "    for data_point in data:\n",
    "        unique_students.add(data_point['account_key'])\n",
    "    return unique_students\n",
    "\n",
    "## Check if the results match with what we found earlier.\n",
    "\n",
    "if (len(get_unique_students(enrollments)) == len(unique_students_enrollments)) and (len(get_unique_students(daily_engagement)) == len(unique_students_engagemenet)):\n",
    "    if len(get_unique_students(project_submissions))== len(unique_students_submissions):\n",
    "        print \"All the results matches!\"\n",
    "    else:\n",
    "        print \"The results match for enrollments and daily_engagement but not for project_submissions\"\n",
    "        \n",
    "elif (len(get_unique_students(enrollments)) == len(unique_students_enrollments)) and (len(get_unique_students(daily_engagement)) != len(unique_students_engagemenet)):\n",
    "    if len(get_unique_students(project_submissions))== len(unique_students_submissions):\n",
    "        print \"The results match for enrollments and project_submissions but not for daily_engagement\"\n",
    "    else:\n",
    "        print \"Only The result for enrollments matches\"\n",
    "    \n",
    "elif (len(get_unique_students(enrollments)) != len(unique_students_enrollments)) and (len(get_unique_students(daily_engagement)) == len(unique_students_engagemenet)) :\n",
    "    if len(get_unique_students(project_submissions))== len(unique_students_submissions):\n",
    "        print \"The results match for daily_engagement and project_submissions but not for enrollments\"\n",
    "    else:\n",
    "        print \"Only The result for daily_engagement\"\n",
    "    \n",
    "else:\n",
    "    if len(get_unique_students(project_submissions))== len(unique_students_submissions):\n",
    "        print \"Only The result for project_submissions\"\n",
    "    else:\n",
    "        print \"None of the results matches\"\n",
    "        \n",
    "\n"
   ]
  },
  {
   "cell_type": "markdown",
   "metadata": {},
   "source": [
    "### Missing Engagement Records\n",
    "Why are students missing from daily_engagement?\n",
    "First, identify surprising data points."
   ]
  },
  {
   "cell_type": "code",
   "execution_count": 8,
   "metadata": {
    "collapsed": false
   },
   "outputs": [
    {
     "name": "stdout",
     "output_type": "stream",
     "text": [
      "{u'status': u'canceled', u'is_udacity': False, u'is_canceled': True, u'join_date': datetime.datetime(2014, 11, 12, 0, 0), u'account_key': u'1219', u'cancel_date': datetime.datetime(2014, 11, 12, 0, 0), u'days_to_cancel': 0}\n"
     ]
    }
   ],
   "source": [
    "for enrollment in enrollments:\n",
    "    student= enrollment['account_key']\n",
    "    if student not in unique_students_engagemenet:\n",
    "        print enrollment\n",
    "        break"
   ]
  },
  {
   "cell_type": "markdown",
   "metadata": {},
   "source": [
    "We can see the join_date and cancel_date is the same, which would be most likely the reason why there is no record on engagement table."
   ]
  },
  {
   "cell_type": "markdown",
   "metadata": {},
   "source": [
    "### Checking for More Problem Records\n",
    "How many enrollment records, that is not included in engagement table even though enrolled at least a day, are le"
   ]
  },
  {
   "cell_type": "code",
   "execution_count": 9,
   "metadata": {
    "collapsed": false
   },
   "outputs": [
    {
     "name": "stdout",
     "output_type": "stream",
     "text": [
      "{u'status': u'canceled', u'is_udacity': True, u'is_canceled': True, u'join_date': datetime.datetime(2015, 1, 10, 0, 0), u'account_key': u'1304', u'cancel_date': datetime.datetime(2015, 3, 10, 0, 0), u'days_to_cancel': 59}\n",
      "{u'status': u'canceled', u'is_udacity': True, u'is_canceled': True, u'join_date': datetime.datetime(2015, 3, 10, 0, 0), u'account_key': u'1304', u'cancel_date': datetime.datetime(2015, 6, 17, 0, 0), u'days_to_cancel': 99}\n",
      "{u'status': u'current', u'is_udacity': True, u'is_canceled': False, u'join_date': datetime.datetime(2015, 2, 25, 0, 0), u'account_key': u'1101', u'cancel_date': None, u'days_to_cancel': None}\n"
     ]
    },
    {
     "data": {
      "text/plain": [
       "3"
      ]
     },
     "execution_count": 9,
     "metadata": {},
     "output_type": "execute_result"
    }
   ],
   "source": [
    "num_problem_records = 0\n",
    "students = set()\n",
    "for enrollment in enrollments:\n",
    "    if (enrollment['days_to_cancel'] > 0) or enrollment['days_to_cancel'] == None:\n",
    "        students = enrollment['account_key']\n",
    "        if students not in unique_students_engagemenet:\n",
    "            num_problem_records += 1\n",
    "            print enrollment\n",
    "num_problem_records\n",
    "        "
   ]
  },
  {
   "cell_type": "markdown",
   "metadata": {},
   "source": [
    "Here we can see all the problem accounts are test accounts, or is_udacity = True.\n",
    "Since we do not data of test accounts for the analysis, we will remove all the data associated with test accounts for all the tables."
   ]
  },
  {
   "cell_type": "code",
   "execution_count": 10,
   "metadata": {
    "collapsed": false
   },
   "outputs": [
    {
     "data": {
      "text/plain": [
       "6"
      ]
     },
     "execution_count": 10,
     "metadata": {},
     "output_type": "execute_result"
    }
   ],
   "source": [
    "udacity_test_accounts = set()\n",
    "for enrollment in enrollments:\n",
    "    if enrollment['is_udacity']:\n",
    "        udacity_test_accounts.add(enrollment['account_key'])\n",
    "len(udacity_test_accounts)"
   ]
  },
  {
   "cell_type": "code",
   "execution_count": 11,
   "metadata": {
    "collapsed": true
   },
   "outputs": [],
   "source": [
    "def remove_test_accounts(data):\n",
    "    non_udacity_data = []\n",
    "    for data_point in data:\n",
    "        if data_point['account_key'] not in udacity_test_accounts:\n",
    "            non_udacity_data.append(data_point)\n",
    "    return non_udacity_data"
   ]
  },
  {
   "cell_type": "code",
   "execution_count": 12,
   "metadata": {
    "collapsed": false
   },
   "outputs": [
    {
     "name": "stdout",
     "output_type": "stream",
     "text": [
      "1622\n",
      "135656\n",
      "3634\n"
     ]
    }
   ],
   "source": [
    "non_udacity_enrollments = remove_test_accounts(enrollments)\n",
    "non_udacity_engagement = remove_test_accounts(daily_engagement)\n",
    "non_udacity_submissions = remove_test_accounts(project_submissions)\n",
    "\n",
    "print len(non_udacity_enrollments)\n",
    "print len(non_udacity_engagement)\n",
    "print len(non_udacity_submissions)"
   ]
  },
  {
   "cell_type": "markdown",
   "metadata": {},
   "source": [
    "### Refining the Questions\n",
    "The original question was:\n",
    "* How do numbers in the daily engagement table differ for students who pass the first project?\n",
    "\n",
    "However, the question is under-specified. To make it specific:\n",
    "\n",
    "1. Exclude engagement records after the project submission\n",
    "2. Match the lengths of time\n",
    "3. Exclude the engagement in courses not related to the first project\n",
    "\n",
    "To sum up,\n",
    "* Only foucs on engagement from first week and exclude students who cancel within a week\n",
    "\n",
    "To answer the question, we will begin with \n",
    "* create a dictionary of students who either:\n",
    "    * haven't canceled yet\n",
    "    * stayed enrolled more than a week\n"
   ]
  },
  {
   "cell_type": "code",
   "execution_count": 13,
   "metadata": {
    "collapsed": false
   },
   "outputs": [
    {
     "data": {
      "text/plain": [
       "995"
      ]
     },
     "execution_count": 13,
     "metadata": {},
     "output_type": "execute_result"
    }
   ],
   "source": [
    "paid_students = {}\n",
    "for enrollment in non_udacity_enrollments:\n",
    "    if not enrollment['is_canceled'] or enrollment['days_to_cancel'] > 7:\n",
    "        account_key = enrollment['account_key']\n",
    "        enrollment_date = enrollment['join_date']\n",
    "        if account_key not in paid_students or enrollment_date > paid_students[account_key]:\n",
    "            paid_students[account_key] = enrollment_date\n",
    "        \n",
    "len(paid_students)"
   ]
  },
  {
   "cell_type": "markdown",
   "metadata": {},
   "source": [
    "### Getting Data from First Week\n",
    "Create a list of rows from the engagement table including only rows where the student is in paid_students, and the date is within one week of the student's join date."
   ]
  },
  {
   "cell_type": "code",
   "execution_count": 14,
   "metadata": {
    "collapsed": true
   },
   "outputs": [],
   "source": [
    "## Given Function: ##\n",
    "# Take a student's join date and the date of a specific engagement record\n",
    "# and returns True if that engagement record happened within one week of the student joining\n",
    "\n",
    "def within_one_week(join_date,engagement_date):\n",
    "    time_delta = engagement_date - join_date\n",
    "    return time_delta.days < 7"
   ]
  },
  {
   "cell_type": "code",
   "execution_count": 15,
   "metadata": {
    "collapsed": true
   },
   "outputs": [],
   "source": [
    "def remove_free_trial_cancels(data):\n",
    "    new_data = []\n",
    "    for data_point in data:\n",
    "        if data_point['account_key'] in paid_students:\n",
    "            new_data.append(data_point)\n",
    "    return new_data"
   ]
  },
  {
   "cell_type": "code",
   "execution_count": 16,
   "metadata": {
    "collapsed": false
   },
   "outputs": [
    {
     "name": "stdout",
     "output_type": "stream",
     "text": [
      "Number of rows in paid_enrollments: 1293\n",
      "Number of rows in paid_engagement: 134549\n",
      "Number of rows in paid_submissions: 3618\n"
     ]
    }
   ],
   "source": [
    "paid_enrollments = remove_free_trial_cancels(non_udacity_enrollments)\n",
    "paid_engagement = remove_free_trial_cancels(non_udacity_engagement)\n",
    "paid_submissions = remove_free_trial_cancels(non_udacity_submissions)\n",
    "\n",
    "print \"Number of rows in paid_enrollments:\", len(paid_enrollments)\n",
    "print \"Number of rows in paid_engagement:\",len(paid_engagement) \n",
    "print \"Number of rows in paid_submissions:\",len(paid_submissions)"
   ]
  },
  {
   "cell_type": "code",
   "execution_count": 17,
   "metadata": {
    "collapsed": false
   },
   "outputs": [
    {
     "data": {
      "text/plain": [
       "21508"
      ]
     },
     "execution_count": 17,
     "metadata": {},
     "output_type": "execute_result"
    }
   ],
   "source": [
    "paid_engagement_in_first_week = []\n",
    "for engagement_record in paid_engagement:\n",
    "    account_key = engagement_record['account_key']\n",
    "    join_date = paid_students[account_key]\n",
    "    engagement_date = engagement_record['utc_date']\n",
    "    \n",
    "    if within_one_week(join_date, engagement_date):\n",
    "        paid_engagement_in_first_week.append(engagement_record)\n",
    "len(paid_engagement_in_first_week)"
   ]
  },
  {
   "cell_type": "markdown",
   "metadata": {},
   "source": [
    "### Exploring Student Engagement: Average Minutes Spent in Classroom"
   ]
  },
  {
   "cell_type": "code",
   "execution_count": 18,
   "metadata": {
    "collapsed": true
   },
   "outputs": [],
   "source": [
    "from collections import defaultdict\n",
    "\n",
    "engagement_by_account = defaultdict(list)\n",
    "for engagement_record in paid_engagement_in_first_week:\n",
    "    account_key = engagement_record['account_key']\n",
    "    engagement_by_account[account_key].append(engagement_record)"
   ]
  },
  {
   "cell_type": "code",
   "execution_count": 19,
   "metadata": {
    "collapsed": true
   },
   "outputs": [],
   "source": [
    "total_minutes_by_account = {}\n",
    "\n",
    "for account_key,engagement_for_student in engagement_by_account.items():\n",
    "    total_minutes = 0\n",
    "    for engagement_record in engagement_for_student:\n",
    "        total_minutes += engagement_record['total_minutes_visited']\n",
    "        total_minutes_by_account[account_key] = total_minutes"
   ]
  },
  {
   "cell_type": "code",
   "execution_count": 20,
   "metadata": {
    "collapsed": false
   },
   "outputs": [
    {
     "name": "stdout",
     "output_type": "stream",
     "text": [
      "Mean:  647.590173826\n",
      "Standard Deviation:  1129.27121042\n",
      "Mimimum:  0.0\n",
      "Maximum:  10568.1008673\n"
     ]
    }
   ],
   "source": [
    "total_minutes = total_minutes_by_account.values()\n",
    "\n",
    "import numpy as np\n",
    "\n",
    "print \"Mean: \", np.mean(total_minutes)\n",
    "print \"Standard Deviation: \" , np.std(total_minutes)\n",
    "print \"Mimimum: \", np.min(total_minutes)\n",
    "print \"Maximum: \", np.max(total_minutes)"
   ]
  },
  {
   "cell_type": "markdown",
   "metadata": {},
   "source": [
    "### Debugging Data Analysis Code\n",
    "From the above result, we can see the maximum minutes spent by one student in the first week was more than total minutes a week(24hr * 60mins * 7days = 1080minutes)\n",
    "To identify the issue, first double-check the maximum minutes are correct manually.\n"
   ]
  },
  {
   "cell_type": "code",
   "execution_count": 21,
   "metadata": {
    "collapsed": false
   },
   "outputs": [
    {
     "name": "stdout",
     "output_type": "stream",
     "text": [
      "Account key for the student with max minutes: 108\n",
      "Maximum Minutes: 10568.1008673\n"
     ]
    }
   ],
   "source": [
    "max_minutes_student = None\n",
    "max_minutes = 0\n",
    "\n",
    "for student, total_minutes in total_minutes_by_account.items():\n",
    "    if total_minutes > max_minutes:\n",
    "        student_with_max_mins = student\n",
    "        max_minutes = total_minutes\n",
    "        \n",
    "print \"Account key for the student with max minutes:\",student_with_max_mins\n",
    "print \"Maximum Minutes:\", max_minutes"
   ]
  },
  {
   "cell_type": "markdown",
   "metadata": {},
   "source": [
    "Maximum minutes is correct.\n",
    "Now check the all engagement records for this student."
   ]
  },
  {
   "cell_type": "code",
   "execution_count": 22,
   "metadata": {
    "collapsed": false
   },
   "outputs": [
    {
     "name": "stdout",
     "output_type": "stream",
     "text": [
      "{u'lessons_completed': 0, u'num_courses_visited': 1, u'total_minutes_visited': 50.9938951667, u'projects_completed': 0, 'account_key': u'108', u'utc_date': datetime.datetime(2015, 1, 7, 0, 0)}\n",
      "{u'lessons_completed': 5, u'num_courses_visited': 2, u'total_minutes_visited': 688.3034385, u'projects_completed': 0, 'account_key': u'108', u'utc_date': datetime.datetime(2015, 1, 8, 0, 0)}\n",
      "{u'lessons_completed': 1, u'num_courses_visited': 2, u'total_minutes_visited': 427.691757667, u'projects_completed': 0, 'account_key': u'108', u'utc_date': datetime.datetime(2015, 1, 9, 0, 0)}\n",
      "{u'lessons_completed': 0, u'num_courses_visited': 3, u'total_minutes_visited': 165.6270925, u'projects_completed': 0, 'account_key': u'108', u'utc_date': datetime.datetime(2015, 1, 10, 0, 0)}\n",
      "{u'lessons_completed': 0, u'num_courses_visited': 0, u'total_minutes_visited': 0.0, u'projects_completed': 0, 'account_key': u'108', u'utc_date': datetime.datetime(2015, 1, 11, 0, 0)}\n",
      "{u'lessons_completed': 0, u'num_courses_visited': 2, u'total_minutes_visited': 199.746703834, u'projects_completed': 0, 'account_key': u'108', u'utc_date': datetime.datetime(2015, 1, 12, 0, 0)}\n",
      "{u'lessons_completed': 0, u'num_courses_visited': 1, u'total_minutes_visited': 522.626804333, u'projects_completed': 0, 'account_key': u'108', u'utc_date': datetime.datetime(2015, 1, 13, 0, 0)}\n",
      "{u'lessons_completed': 0, u'num_courses_visited': 1, u'total_minutes_visited': 19.3757686667, u'projects_completed': 0, 'account_key': u'108', u'utc_date': datetime.datetime(2015, 1, 14, 0, 0)}\n",
      "{u'lessons_completed': 1, u'num_courses_visited': 1, u'total_minutes_visited': 159.846594, u'projects_completed': 0, 'account_key': u'108', u'utc_date': datetime.datetime(2015, 1, 15, 0, 0)}\n",
      "{u'lessons_completed': 0, u'num_courses_visited': 2, u'total_minutes_visited': 188.953028166, u'projects_completed': 0, 'account_key': u'108', u'utc_date': datetime.datetime(2015, 1, 16, 0, 0)}\n",
      "{u'lessons_completed': 1, u'num_courses_visited': 3, u'total_minutes_visited': 150.338208833, u'projects_completed': 0, 'account_key': u'108', u'utc_date': datetime.datetime(2015, 1, 17, 0, 0)}\n",
      "{u'lessons_completed': 0, u'num_courses_visited': 2, u'total_minutes_visited': 46.2042118333, u'projects_completed': 0, 'account_key': u'108', u'utc_date': datetime.datetime(2015, 1, 18, 0, 0)}\n",
      "{u'lessons_completed': 0, u'num_courses_visited': 0, u'total_minutes_visited': 0.0, u'projects_completed': 0, 'account_key': u'108', u'utc_date': datetime.datetime(2015, 1, 19, 0, 0)}\n",
      "{u'lessons_completed': 0, u'num_courses_visited': 0, u'total_minutes_visited': 0.0, u'projects_completed': 0, 'account_key': u'108', u'utc_date': datetime.datetime(2015, 1, 20, 0, 0)}\n",
      "{u'lessons_completed': 0, u'num_courses_visited': 0, u'total_minutes_visited': 0.0, u'projects_completed': 0, 'account_key': u'108', u'utc_date': datetime.datetime(2015, 1, 21, 0, 0)}\n",
      "{u'lessons_completed': 0, u'num_courses_visited': 2, u'total_minutes_visited': 31.7297723333, u'projects_completed': 0, 'account_key': u'108', u'utc_date': datetime.datetime(2015, 1, 22, 0, 0)}\n",
      "{u'lessons_completed': 0, u'num_courses_visited': 1, u'total_minutes_visited': 206.586538333, u'projects_completed': 0, 'account_key': u'108', u'utc_date': datetime.datetime(2015, 1, 23, 0, 0)}\n",
      "{u'lessons_completed': 0, u'num_courses_visited': 0, u'total_minutes_visited': 0.0, u'projects_completed': 0, 'account_key': u'108', u'utc_date': datetime.datetime(2015, 1, 24, 0, 0)}\n",
      "{u'lessons_completed': 0, u'num_courses_visited': 0, u'total_minutes_visited': 0.0, u'projects_completed': 0, 'account_key': u'108', u'utc_date': datetime.datetime(2015, 1, 25, 0, 0)}\n",
      "{u'lessons_completed': 0, u'num_courses_visited': 1, u'total_minutes_visited': 129.350111833, u'projects_completed': 0, 'account_key': u'108', u'utc_date': datetime.datetime(2015, 1, 26, 0, 0)}\n",
      "{u'lessons_completed': 0, u'num_courses_visited': 1, u'total_minutes_visited': 73.5691376667, u'projects_completed': 0, 'account_key': u'108', u'utc_date': datetime.datetime(2015, 1, 27, 0, 0)}\n",
      "{u'lessons_completed': 0, u'num_courses_visited': 0, u'total_minutes_visited': 0.0, u'projects_completed': 0, 'account_key': u'108', u'utc_date': datetime.datetime(2015, 1, 28, 0, 0)}\n",
      "{u'lessons_completed': 0, u'num_courses_visited': 1, u'total_minutes_visited': 271.0895865, u'projects_completed': 0, 'account_key': u'108', u'utc_date': datetime.datetime(2015, 1, 29, 0, 0)}\n",
      "{u'lessons_completed': 1, u'num_courses_visited': 1, u'total_minutes_visited': 432.252650333, u'projects_completed': 0, 'account_key': u'108', u'utc_date': datetime.datetime(2015, 1, 30, 0, 0)}\n",
      "{u'lessons_completed': 0, u'num_courses_visited': 1, u'total_minutes_visited': 196.13898, u'projects_completed': 0, 'account_key': u'108', u'utc_date': datetime.datetime(2015, 1, 31, 0, 0)}\n",
      "{u'lessons_completed': 0, u'num_courses_visited': 1, u'total_minutes_visited': 68.9915653333, u'projects_completed': 0, 'account_key': u'108', u'utc_date': datetime.datetime(2015, 2, 1, 0, 0)}\n",
      "{u'lessons_completed': 0, u'num_courses_visited': 2, u'total_minutes_visited': 86.3277713333, u'projects_completed': 0, 'account_key': u'108', u'utc_date': datetime.datetime(2015, 2, 2, 0, 0)}\n",
      "{u'lessons_completed': 0, u'num_courses_visited': 0, u'total_minutes_visited': 0.0, u'projects_completed': 0, 'account_key': u'108', u'utc_date': datetime.datetime(2015, 2, 3, 0, 0)}\n",
      "{u'lessons_completed': 0, u'num_courses_visited': 0, u'total_minutes_visited': 0.0, u'projects_completed': 0, 'account_key': u'108', u'utc_date': datetime.datetime(2015, 2, 4, 0, 0)}\n",
      "{u'lessons_completed': 0, u'num_courses_visited': 1, u'total_minutes_visited': 153.230525, u'projects_completed': 0, 'account_key': u'108', u'utc_date': datetime.datetime(2015, 2, 5, 0, 0)}\n",
      "{u'lessons_completed': 0, u'num_courses_visited': 0, u'total_minutes_visited': 0.0, u'projects_completed': 0, 'account_key': u'108', u'utc_date': datetime.datetime(2015, 2, 6, 0, 0)}\n",
      "{u'lessons_completed': 0, u'num_courses_visited': 0, u'total_minutes_visited': 0.0, u'projects_completed': 0, 'account_key': u'108', u'utc_date': datetime.datetime(2015, 2, 7, 0, 0)}\n",
      "{u'lessons_completed': 0, u'num_courses_visited': 0, u'total_minutes_visited': 0.0, u'projects_completed': 0, 'account_key': u'108', u'utc_date': datetime.datetime(2015, 2, 8, 0, 0)}\n",
      "{u'lessons_completed': 0, u'num_courses_visited': 1, u'total_minutes_visited': 16.687455, u'projects_completed': 0, 'account_key': u'108', u'utc_date': datetime.datetime(2015, 2, 9, 0, 0)}\n",
      "{u'lessons_completed': 0, u'num_courses_visited': 1, u'total_minutes_visited': 133.047518833, u'projects_completed': 0, 'account_key': u'108', u'utc_date': datetime.datetime(2015, 2, 10, 0, 0)}\n",
      "{u'lessons_completed': 0, u'num_courses_visited': 2, u'total_minutes_visited': 60.2176756667, u'projects_completed': 0, 'account_key': u'108', u'utc_date': datetime.datetime(2015, 2, 11, 0, 0)}\n",
      "{u'lessons_completed': 0, u'num_courses_visited': 3, u'total_minutes_visited': 160.438302667, u'projects_completed': 0, 'account_key': u'108', u'utc_date': datetime.datetime(2015, 2, 12, 0, 0)}\n",
      "{u'lessons_completed': 4, u'num_courses_visited': 2, u'total_minutes_visited': 506.220547, u'projects_completed': 0, 'account_key': u'108', u'utc_date': datetime.datetime(2015, 2, 13, 0, 0)}\n",
      "{u'lessons_completed': 0, u'num_courses_visited': 1, u'total_minutes_visited': 105.095858167, u'projects_completed': 0, 'account_key': u'108', u'utc_date': datetime.datetime(2015, 2, 14, 0, 0)}\n",
      "{u'lessons_completed': 0, u'num_courses_visited': 0, u'total_minutes_visited': 0.0, u'projects_completed': 0, 'account_key': u'108', u'utc_date': datetime.datetime(2015, 2, 15, 0, 0)}\n",
      "{u'lessons_completed': 0, u'num_courses_visited': 0, u'total_minutes_visited': 0.0, u'projects_completed': 0, 'account_key': u'108', u'utc_date': datetime.datetime(2015, 2, 16, 0, 0)}\n",
      "{u'lessons_completed': 0, u'num_courses_visited': 1, u'total_minutes_visited': 2.851689, u'projects_completed': 0, 'account_key': u'108', u'utc_date': datetime.datetime(2015, 2, 17, 0, 0)}\n",
      "{u'lessons_completed': 1, u'num_courses_visited': 1, u'total_minutes_visited': 10.9540768333, u'projects_completed': 0, 'account_key': u'108', u'utc_date': datetime.datetime(2015, 2, 18, 0, 0)}\n",
      "{u'lessons_completed': 3, u'num_courses_visited': 1, u'total_minutes_visited': 474.2906025, u'projects_completed': 0, 'account_key': u'108', u'utc_date': datetime.datetime(2015, 2, 19, 0, 0)}\n",
      "{u'lessons_completed': 5, u'num_courses_visited': 2, u'total_minutes_visited': 820.879483167, u'projects_completed': 0, 'account_key': u'108', u'utc_date': datetime.datetime(2015, 2, 20, 0, 0)}\n",
      "{u'lessons_completed': 2, u'num_courses_visited': 2, u'total_minutes_visited': 189.447189334, u'projects_completed': 0, 'account_key': u'108', u'utc_date': datetime.datetime(2015, 2, 21, 0, 0)}\n",
      "{u'lessons_completed': 1, u'num_courses_visited': 2, u'total_minutes_visited': 97.7356985, u'projects_completed': 0, 'account_key': u'108', u'utc_date': datetime.datetime(2015, 2, 22, 0, 0)}\n",
      "{u'lessons_completed': 0, u'num_courses_visited': 1, u'total_minutes_visited': 16.399642, u'projects_completed': 0, 'account_key': u'108', u'utc_date': datetime.datetime(2015, 2, 23, 0, 0)}\n",
      "{u'lessons_completed': 0, u'num_courses_visited': 0, u'total_minutes_visited': 0.0, u'projects_completed': 0, 'account_key': u'108', u'utc_date': datetime.datetime(2015, 2, 24, 0, 0)}\n",
      "{u'lessons_completed': 0, u'num_courses_visited': 0, u'total_minutes_visited': 0.0, u'projects_completed': 0, 'account_key': u'108', u'utc_date': datetime.datetime(2015, 2, 25, 0, 0)}\n",
      "{u'lessons_completed': 0, u'num_courses_visited': 0, u'total_minutes_visited': 0.0, u'projects_completed': 0, 'account_key': u'108', u'utc_date': datetime.datetime(2015, 2, 26, 0, 0)}\n",
      "{u'lessons_completed': 0, u'num_courses_visited': 0, u'total_minutes_visited': 0.0, u'projects_completed': 0, 'account_key': u'108', u'utc_date': datetime.datetime(2015, 2, 27, 0, 0)}\n",
      "{u'lessons_completed': 0, u'num_courses_visited': 0, u'total_minutes_visited': 0.0, u'projects_completed': 0, 'account_key': u'108', u'utc_date': datetime.datetime(2015, 2, 28, 0, 0)}\n",
      "{u'lessons_completed': 0, u'num_courses_visited': 0, u'total_minutes_visited': 0.0, u'projects_completed': 0, 'account_key': u'108', u'utc_date': datetime.datetime(2015, 3, 1, 0, 0)}\n",
      "{u'lessons_completed': 0, u'num_courses_visited': 0, u'total_minutes_visited': 0.0, u'projects_completed': 0, 'account_key': u'108', u'utc_date': datetime.datetime(2015, 3, 2, 0, 0)}\n",
      "{u'lessons_completed': 0, u'num_courses_visited': 0, u'total_minutes_visited': 0.0, u'projects_completed': 0, 'account_key': u'108', u'utc_date': datetime.datetime(2015, 3, 3, 0, 0)}\n",
      "{u'lessons_completed': 0, u'num_courses_visited': 1, u'total_minutes_visited': 2.0494365, u'projects_completed': 0, 'account_key': u'108', u'utc_date': datetime.datetime(2015, 3, 4, 0, 0)}\n",
      "{u'lessons_completed': 0, u'num_courses_visited': 0, u'total_minutes_visited': 0.0, u'projects_completed': 0, 'account_key': u'108', u'utc_date': datetime.datetime(2015, 3, 5, 0, 0)}\n",
      "{u'lessons_completed': 2, u'num_courses_visited': 2, u'total_minutes_visited': 431.799976167, u'projects_completed': 0, 'account_key': u'108', u'utc_date': datetime.datetime(2015, 3, 6, 0, 0)}\n",
      "{u'lessons_completed': 1, u'num_courses_visited': 1, u'total_minutes_visited': 119.514411833, u'projects_completed': 0, 'account_key': u'108', u'utc_date': datetime.datetime(2015, 3, 7, 0, 0)}\n",
      "{u'lessons_completed': 1, u'num_courses_visited': 1, u'total_minutes_visited': 164.2608825, u'projects_completed': 0, 'account_key': u'108', u'utc_date': datetime.datetime(2015, 3, 8, 0, 0)}\n",
      "{u'lessons_completed': 0, u'num_courses_visited': 2, u'total_minutes_visited': 179.749760666, u'projects_completed': 0, 'account_key': u'108', u'utc_date': datetime.datetime(2015, 3, 9, 0, 0)}\n",
      "{u'lessons_completed': 0, u'num_courses_visited': 0, u'total_minutes_visited': 0.0, u'projects_completed': 0, 'account_key': u'108', u'utc_date': datetime.datetime(2015, 3, 10, 0, 0)}\n",
      "{u'lessons_completed': 0, u'num_courses_visited': 0, u'total_minutes_visited': 0.0, u'projects_completed': 0, 'account_key': u'108', u'utc_date': datetime.datetime(2015, 3, 11, 0, 0)}\n",
      "{u'lessons_completed': 0, u'num_courses_visited': 1, u'total_minutes_visited': 10.787165, u'projects_completed': 0, 'account_key': u'108', u'utc_date': datetime.datetime(2015, 3, 12, 0, 0)}\n",
      "{u'lessons_completed': 0, u'num_courses_visited': 1, u'total_minutes_visited': 53.0065191667, u'projects_completed': 0, 'account_key': u'108', u'utc_date': datetime.datetime(2015, 3, 13, 0, 0)}\n",
      "{u'lessons_completed': 1, u'num_courses_visited': 1, u'total_minutes_visited': 203.048973667, u'projects_completed': 0, 'account_key': u'108', u'utc_date': datetime.datetime(2015, 3, 14, 0, 0)}\n",
      "{u'lessons_completed': 0, u'num_courses_visited': 1, u'total_minutes_visited': 51.2993831667, u'projects_completed': 0, 'account_key': u'108', u'utc_date': datetime.datetime(2015, 3, 15, 0, 0)}\n",
      "{u'lessons_completed': 0, u'num_courses_visited': 0, u'total_minutes_visited': 0.0, u'projects_completed': 0, 'account_key': u'108', u'utc_date': datetime.datetime(2015, 3, 16, 0, 0)}\n",
      "{u'lessons_completed': 0, u'num_courses_visited': 1, u'total_minutes_visited': 148.2304025, u'projects_completed': 0, 'account_key': u'108', u'utc_date': datetime.datetime(2015, 3, 17, 0, 0)}\n",
      "{u'lessons_completed': 0, u'num_courses_visited': 1, u'total_minutes_visited': 27.5826056667, u'projects_completed': 0, 'account_key': u'108', u'utc_date': datetime.datetime(2015, 3, 18, 0, 0)}\n",
      "{u'lessons_completed': 0, u'num_courses_visited': 0, u'total_minutes_visited': 0.0, u'projects_completed': 0, 'account_key': u'108', u'utc_date': datetime.datetime(2015, 3, 19, 0, 0)}\n",
      "{u'lessons_completed': 0, u'num_courses_visited': 0, u'total_minutes_visited': 0.0, u'projects_completed': 0, 'account_key': u'108', u'utc_date': datetime.datetime(2015, 3, 20, 0, 0)}\n",
      "{u'lessons_completed': 0, u'num_courses_visited': 1, u'total_minutes_visited': 14.4492643333, u'projects_completed': 0, 'account_key': u'108', u'utc_date': datetime.datetime(2015, 3, 21, 0, 0)}\n",
      "{u'lessons_completed': 1, u'num_courses_visited': 1, u'total_minutes_visited': 159.175812667, u'projects_completed': 0, 'account_key': u'108', u'utc_date': datetime.datetime(2015, 3, 22, 0, 0)}\n",
      "{u'lessons_completed': 0, u'num_courses_visited': 1, u'total_minutes_visited': 23.0641448333, u'projects_completed': 0, 'account_key': u'108', u'utc_date': datetime.datetime(2015, 3, 23, 0, 0)}\n",
      "{u'lessons_completed': 3, u'num_courses_visited': 2, u'total_minutes_visited': 327.687187333, u'projects_completed': 1, 'account_key': u'108', u'utc_date': datetime.datetime(2015, 3, 24, 0, 0)}\n",
      "{u'lessons_completed': 5, u'num_courses_visited': 1, u'total_minutes_visited': 210.324669, u'projects_completed': 0, 'account_key': u'108', u'utc_date': datetime.datetime(2015, 3, 25, 0, 0)}\n",
      "{u'lessons_completed': 0, u'num_courses_visited': 2, u'total_minutes_visited': 114.421496, u'projects_completed': 0, 'account_key': u'108', u'utc_date': datetime.datetime(2015, 3, 26, 0, 0)}\n",
      "{u'lessons_completed': 0, u'num_courses_visited': 1, u'total_minutes_visited': 85.2018686667, u'projects_completed': 0, 'account_key': u'108', u'utc_date': datetime.datetime(2015, 3, 27, 0, 0)}\n",
      "{u'lessons_completed': 0, u'num_courses_visited': 1, u'total_minutes_visited': 9.53501516667, u'projects_completed': 0, 'account_key': u'108', u'utc_date': datetime.datetime(2015, 3, 28, 0, 0)}\n",
      "{u'lessons_completed': 0, u'num_courses_visited': 0, u'total_minutes_visited': 0.0, u'projects_completed': 0, 'account_key': u'108', u'utc_date': datetime.datetime(2015, 3, 29, 0, 0)}\n",
      "{u'lessons_completed': 0, u'num_courses_visited': 0, u'total_minutes_visited': 0.0, u'projects_completed': 0, 'account_key': u'108', u'utc_date': datetime.datetime(2015, 3, 30, 0, 0)}\n",
      "{u'lessons_completed': 0, u'num_courses_visited': 0, u'total_minutes_visited': 0.0, u'projects_completed': 0, 'account_key': u'108', u'utc_date': datetime.datetime(2015, 3, 31, 0, 0)}\n",
      "{u'lessons_completed': 0, u'num_courses_visited': 3, u'total_minutes_visited': 147.569145833, u'projects_completed': 0, 'account_key': u'108', u'utc_date': datetime.datetime(2015, 4, 1, 0, 0)}\n",
      "{u'lessons_completed': 0, u'num_courses_visited': 3, u'total_minutes_visited': 77.2467501667, u'projects_completed': 0, 'account_key': u'108', u'utc_date': datetime.datetime(2015, 4, 2, 0, 0)}\n",
      "{u'lessons_completed': 0, u'num_courses_visited': 3, u'total_minutes_visited': 84.8263243333, u'projects_completed': 0, 'account_key': u'108', u'utc_date': datetime.datetime(2015, 4, 3, 0, 0)}\n",
      "{u'lessons_completed': 0, u'num_courses_visited': 0, u'total_minutes_visited': 0.0, u'projects_completed': 0, 'account_key': u'108', u'utc_date': datetime.datetime(2015, 4, 4, 0, 0)}\n",
      "{u'lessons_completed': 0, u'num_courses_visited': 0, u'total_minutes_visited': 0.0, u'projects_completed': 0, 'account_key': u'108', u'utc_date': datetime.datetime(2015, 4, 5, 0, 0)}\n",
      "{u'lessons_completed': 0, u'num_courses_visited': 2, u'total_minutes_visited': 32.9969003333, u'projects_completed': 0, 'account_key': u'108', u'utc_date': datetime.datetime(2015, 4, 6, 0, 0)}\n",
      "{u'lessons_completed': 0, u'num_courses_visited': 1, u'total_minutes_visited': 173.764699333, u'projects_completed': 0, 'account_key': u'108', u'utc_date': datetime.datetime(2015, 4, 7, 0, 0)}\n",
      "{u'lessons_completed': 0, u'num_courses_visited': 0, u'total_minutes_visited': 0.0, u'projects_completed': 0, 'account_key': u'108', u'utc_date': datetime.datetime(2015, 4, 8, 0, 0)}\n",
      "{u'lessons_completed': 0, u'num_courses_visited': 1, u'total_minutes_visited': 85.6887951667, u'projects_completed': 0, 'account_key': u'108', u'utc_date': datetime.datetime(2015, 4, 9, 0, 0)}\n",
      "{u'lessons_completed': 0, u'num_courses_visited': 2, u'total_minutes_visited': 72.4837255, u'projects_completed': 0, 'account_key': u'108', u'utc_date': datetime.datetime(2015, 4, 10, 0, 0)}\n",
      "{u'lessons_completed': 0, u'num_courses_visited': 0, u'total_minutes_visited': 0.0, u'projects_completed': 0, 'account_key': u'108', u'utc_date': datetime.datetime(2015, 4, 11, 0, 0)}\n",
      "{u'lessons_completed': 0, u'num_courses_visited': 0, u'total_minutes_visited': 0.0, u'projects_completed': 0, 'account_key': u'108', u'utc_date': datetime.datetime(2015, 4, 12, 0, 0)}\n",
      "{u'lessons_completed': 0, u'num_courses_visited': 0, u'total_minutes_visited': 0.0, u'projects_completed': 0, 'account_key': u'108', u'utc_date': datetime.datetime(2015, 4, 13, 0, 0)}\n",
      "{u'lessons_completed': 0, u'num_courses_visited': 1, u'total_minutes_visited': 36.9211676667, u'projects_completed': 0, 'account_key': u'108', u'utc_date': datetime.datetime(2015, 4, 14, 0, 0)}\n",
      "{u'lessons_completed': 1, u'num_courses_visited': 2, u'total_minutes_visited': 179.353473333, u'projects_completed': 0, 'account_key': u'108', u'utc_date': datetime.datetime(2015, 4, 15, 0, 0)}\n",
      "{u'lessons_completed': 0, u'num_courses_visited': 2, u'total_minutes_visited': 274.209734167, u'projects_completed': 0, 'account_key': u'108', u'utc_date': datetime.datetime(2015, 4, 16, 0, 0)}\n",
      "{u'lessons_completed': 0, u'num_courses_visited': 1, u'total_minutes_visited': 40.340405, u'projects_completed': 0, 'account_key': u'108', u'utc_date': datetime.datetime(2015, 4, 17, 0, 0)}\n",
      "{u'lessons_completed': 0, u'num_courses_visited': 0, u'total_minutes_visited': 0.0, u'projects_completed': 0, 'account_key': u'108', u'utc_date': datetime.datetime(2015, 4, 18, 0, 0)}\n",
      "{u'lessons_completed': 0, u'num_courses_visited': 0, u'total_minutes_visited': 0.0, u'projects_completed': 0, 'account_key': u'108', u'utc_date': datetime.datetime(2015, 4, 19, 0, 0)}\n",
      "{u'lessons_completed': 0, u'num_courses_visited': 2, u'total_minutes_visited': 25.9137858334, u'projects_completed': 0, 'account_key': u'108', u'utc_date': datetime.datetime(2015, 4, 20, 0, 0)}\n",
      "{u'lessons_completed': 0, u'num_courses_visited': 1, u'total_minutes_visited': 3.40682316667, u'projects_completed': 0, 'account_key': u'108', u'utc_date': datetime.datetime(2015, 4, 21, 0, 0)}\n",
      "{u'lessons_completed': 0, u'num_courses_visited': 2, u'total_minutes_visited': 99.1186611667, u'projects_completed': 0, 'account_key': u'108', u'utc_date': datetime.datetime(2015, 4, 22, 0, 0)}\n",
      "{u'lessons_completed': 0, u'num_courses_visited': 1, u'total_minutes_visited': 35.8316206667, u'projects_completed': 2, 'account_key': u'108', u'utc_date': datetime.datetime(2015, 4, 23, 0, 0)}\n",
      "{u'lessons_completed': 0, u'num_courses_visited': 0, u'total_minutes_visited': 0.0, u'projects_completed': 0, 'account_key': u'108', u'utc_date': datetime.datetime(2015, 4, 24, 0, 0)}\n",
      "{u'lessons_completed': 0, u'num_courses_visited': 0, u'total_minutes_visited': 0.0, u'projects_completed': 0, 'account_key': u'108', u'utc_date': datetime.datetime(2015, 4, 25, 0, 0)}\n",
      "{u'lessons_completed': 0, u'num_courses_visited': 0, u'total_minutes_visited': 0.0, u'projects_completed': 0, 'account_key': u'108', u'utc_date': datetime.datetime(2015, 4, 26, 0, 0)}\n"
     ]
    }
   ],
   "source": [
    "for engagement_record in paid_engagement_in_first_week:\n",
    "    if engagement_record['account_key'] == student_with_max_mins:\n",
    "        print engagement_record"
   ]
  },
  {
   "cell_type": "markdown",
   "metadata": {},
   "source": [
    "The list includes more than a week of engagement records for the student with maximum minutes. This implies that the given function, within_one_week, needs to be revised. The original function does not check the engagement date is after the join date, which cause the engagement records for students who rejoined could be included as engagement_date - join_date(to be specific, rejoin date) would be always negative.\n",
    "To fix the issue, add 'time_delta.days >= 0' to the function."
   ]
  },
  {
   "cell_type": "code",
   "execution_count": 23,
   "metadata": {
    "collapsed": true
   },
   "outputs": [],
   "source": [
    "def within_one_week(join_date,engagement_date):\n",
    "    time_delta = engagement_date - join_date\n",
    "    return time_delta.days >= 0 and  time_delta.days < 7"
   ]
  },
  {
   "cell_type": "markdown",
   "metadata": {},
   "source": [
    "Rerunn all codes associated with within_one_week function."
   ]
  },
  {
   "cell_type": "code",
   "execution_count": 24,
   "metadata": {
    "collapsed": false
   },
   "outputs": [
    {
     "name": "stdout",
     "output_type": "stream",
     "text": [
      "Number of engagement records in first week: 6919\n",
      "Mean:  306.708326753\n",
      "Standard Deviation:  412.996933409\n",
      "Mimimum:  0.0\n",
      "Maximum:  3564.7332645\n"
     ]
    }
   ],
   "source": [
    "# Get number of engagement records in the first week for the paid students\n",
    "paid_engagement_in_first_week = []\n",
    "for engagement_record in paid_engagement:\n",
    "    account_key = engagement_record['account_key']\n",
    "    join_date = paid_students[account_key]\n",
    "    engagement_date = engagement_record['utc_date']\n",
    "    \n",
    "    if within_one_week(join_date, engagement_date):\n",
    "        paid_engagement_in_first_week.append(engagement_record)\n",
    "print \"Number of engagement records in first week:\",len(paid_engagement_in_first_week)\n",
    "\n",
    "\n",
    "# Create dictionary of the first week engagement per paid account\n",
    "# with format of {account_key:list of dictionaries for each engagement records}\n",
    "engagement_by_account = defaultdict(list)\n",
    "for engagement_record in paid_engagement_in_first_week:\n",
    "    account_key = engagement_record['account_key']\n",
    "    engagement_by_account[account_key].append(engagement_record)\n",
    "    \n",
    "\n",
    "# Sum the total minutes spent in the first week per paid account\n",
    "# with format of {account_key: total minutes}\n",
    "total_minutes_by_account = {}\n",
    "\n",
    "for account_key,engagement_for_student in engagement_by_account.items():\n",
    "    total_minutes = 0\n",
    "    for engagement_record in engagement_for_student:\n",
    "        total_minutes += engagement_record['total_minutes_visited']\n",
    "        total_minutes_by_account[account_key] = total_minutes\n",
    "\n",
    "\n",
    "# Create the summary of the total minutes spent in the first week per paid account,\n",
    "# including average, standard deviation, mimimum, and maximum\n",
    "total_minutes = total_minutes_by_account.values()\n",
    "\n",
    "import numpy as np\n",
    "\n",
    "print \"Mean: \", np.mean(total_minutes)\n",
    "print \"Standard Deviation: \" , np.std(total_minutes)\n",
    "print \"Mimimum: \", np.min(total_minutes)\n",
    "print \"Maximum: \", np.max(total_minutes)"
   ]
  },
  {
   "cell_type": "markdown",
   "metadata": {},
   "source": [
    "Double-check the number of engagement records for the student with maximum minutes is 7 or less."
   ]
  },
  {
   "cell_type": "code",
   "execution_count": 25,
   "metadata": {
    "collapsed": false
   },
   "outputs": [
    {
     "name": "stdout",
     "output_type": "stream",
     "text": [
      "{u'lessons_completed': 4, u'num_courses_visited': 4, u'total_minutes_visited': 850.519339666, u'projects_completed': 0, 'account_key': u'163', u'utc_date': datetime.datetime(2015, 7, 9, 0, 0)}\n",
      "{u'lessons_completed': 6, u'num_courses_visited': 6, u'total_minutes_visited': 872.633923334, u'projects_completed': 0, 'account_key': u'163', u'utc_date': datetime.datetime(2015, 7, 10, 0, 0)}\n",
      "{u'lessons_completed': 6, u'num_courses_visited': 2, u'total_minutes_visited': 777.018903666, u'projects_completed': 0, 'account_key': u'163', u'utc_date': datetime.datetime(2015, 7, 11, 0, 0)}\n",
      "{u'lessons_completed': 2, u'num_courses_visited': 1, u'total_minutes_visited': 294.568774, u'projects_completed': 0, 'account_key': u'163', u'utc_date': datetime.datetime(2015, 7, 12, 0, 0)}\n",
      "{u'lessons_completed': 1, u'num_courses_visited': 3, u'total_minutes_visited': 471.2139785, u'projects_completed': 0, 'account_key': u'163', u'utc_date': datetime.datetime(2015, 7, 13, 0, 0)}\n",
      "{u'lessons_completed': 1, u'num_courses_visited': 2, u'total_minutes_visited': 298.778345333, u'projects_completed': 0, 'account_key': u'163', u'utc_date': datetime.datetime(2015, 7, 14, 0, 0)}\n",
      "{u'lessons_completed': 0, u'num_courses_visited': 0, u'total_minutes_visited': 0.0, u'projects_completed': 0, 'account_key': u'163', u'utc_date': datetime.datetime(2015, 7, 15, 0, 0)}\n"
     ]
    }
   ],
   "source": [
    "for account, minutes in total_minutes_by_account.items():\n",
    "    if minutes == np.max(total_minutes_by_account.values()):\n",
    "        student_with_max_mins = account\n",
    "\n",
    "for engagement_record in paid_engagement_in_first_week:\n",
    "    if engagement_record['account_key'] == student_with_max_mins:\n",
    "        print engagement_record"
   ]
  },
  {
   "cell_type": "markdown",
   "metadata": {},
   "source": [
    "### Lessons Completed in First Week\n",
    "Adopt the code to analyze lessons completed instead of minutes spent, and find mean, standard deviation, minimum, and maximum of lessons completed by account."
   ]
  },
  {
   "cell_type": "code",
   "execution_count": 26,
   "metadata": {
    "collapsed": false
   },
   "outputs": [],
   "source": [
    "# Create a function to group the data by a specific key\n",
    "def group_data(data,key_name):\n",
    "    group_data = defaultdict(list)\n",
    "    for data_point in data:\n",
    "        key = data_point[key_name]\n",
    "        group_data[key].append(data_point)\n",
    "    return group_data\n",
    "\n",
    "# Create a function to sum up a specific field\n",
    "def sum_grouped_items(grouped_data,field_name):\n",
    "    sum_data = {}\n",
    "    for key, data_points in grouped_data.items():\n",
    "        total = 0\n",
    "        for data_point in data_points:\n",
    "            total += data_point[field_name]\n",
    "        sum_data[key] = total\n",
    "    return sum_data\n",
    "      \n",
    "# Create a funciton to give summary of stats\n",
    "def describe_data(data):\n",
    "    print \"Mean: \", np.mean(data)\n",
    "    print \"Standard Deviation: \" , np.std(data)\n",
    "    print \"Mimimum: \", np.min(data)\n",
    "    print \"Maximum: \", np.max(data)"
   ]
  },
  {
   "cell_type": "code",
   "execution_count": 27,
   "metadata": {
    "collapsed": false
   },
   "outputs": [
    {
     "name": "stdout",
     "output_type": "stream",
     "text": [
      "Summary of Total Lessons Completed in First Week by Student\n",
      "Mean:  1.63618090452\n",
      "Standard Deviation:  3.00256129983\n",
      "Mimimum:  0\n",
      "Maximum:  36\n"
     ]
    }
   ],
   "source": [
    "engagement_by_account = group_data(paid_engagement_in_first_week, 'account_key')\n",
    "total_lessons_by_account = sum_grouped_items(engagement_by_account, 'lessons_completed')\n",
    "total_lessons = total_lessons_by_account.values()\n",
    "print \"Summary of Total Lessons Completed in First Week by Student\"\n",
    "describe_data(total_lessons)\n"
   ]
  },
  {
   "cell_type": "markdown",
   "metadata": {},
   "source": [
    "### Number of Visits in the First Week\n",
    "Analyze the number of days the students visited the classroom by creating field has_visted either 1 or 0, visitted or not-visited."
   ]
  },
  {
   "cell_type": "code",
   "execution_count": 28,
   "metadata": {
    "collapsed": false
   },
   "outputs": [
    {
     "name": "stdout",
     "output_type": "stream",
     "text": [
      "Mean:  2.86733668342\n",
      "Standard Deviation:  2.25519800292\n",
      "Mimimum:  0\n",
      "Maximum:  7\n"
     ]
    }
   ],
   "source": [
    "# Add 'has_visited\" field\n",
    "for engagement_data in paid_engagement:\n",
    "    if engagement_data['num_courses_visited'] > 0:\n",
    "        engagement_data['has_visited'] =1\n",
    "    else:\n",
    "        engagement_data['has_visited'] = 0\n",
    "\n",
    "# Rerun some codes so that new column will be added\n",
    "paid_engagement_in_first_week = []\n",
    "for engagement_record in paid_engagement:\n",
    "    account_key = engagement_record['account_key']\n",
    "    join_date = paid_students[account_key]\n",
    "    engagement_date = engagement_record['utc_date']\n",
    "    \n",
    "    if within_one_week(join_date, engagement_date):\n",
    "        paid_engagement_in_first_week.append(engagement_record)\n",
    "        \n",
    "engagement_by_account = group_data(paid_engagement_in_first_week, 'account_key')      \n",
    "\n",
    "# Sum by account\n",
    "days_visited_by_account = sum_grouped_items(engagement_by_account,'has_visited')\n",
    "describe_data(days_visited_by_account.values())\n"
   ]
  },
  {
   "cell_type": "markdown",
   "metadata": {},
   "source": [
    "### Splitting out Passing Students\n",
    "Create two lists of engagement data for paid students in the first week.\n",
    "The first list should contain data for students who eventually pass the first project (project keys is provided), and the second list should contain data for students who do not pass."
   ]
  },
  {
   "cell_type": "code",
   "execution_count": 29,
   "metadata": {
    "collapsed": false
   },
   "outputs": [
    {
     "name": "stdout",
     "output_type": "stream",
     "text": [
      "Number of engagement records in first week for the students who passed the subway project: 4527\n",
      "Number of engagement records in first week for the students who did not pass the subway project: 2392\n"
     ]
    }
   ],
   "source": [
    "subway_project_lesson_keys = ['746169184', '3176718735']\n",
    "pass_subway_project = set()\n",
    "\n",
    "# List up account_key for the students who has passed the subway project\n",
    "for submission_record in paid_submissions:\n",
    "    if submission_record['lesson_key'] in subway_project_lesson_keys \\\n",
    "    and (submission_record['assigned_rating'] == \"PASSED\" or submission_record['assigned_rating'] == \"DISTINCTION\"):\n",
    "        pass_subway_project.add(submission_record['account_key'])\n",
    "\n",
    "# Split paid student engagement records in the first week into students who has passed the project and not\n",
    "passing_engagement =[]\n",
    "non_passing_engagement = []\n",
    "for engagement_record in paid_engagement_in_first_week:\n",
    "    if engagement_record['account_key'] in pass_subway_project:\n",
    "        passing_engagement.append(engagement_record)\n",
    "    else:\n",
    "        non_passing_engagement.append(engagement_record)\n",
    "\n",
    "print \"Number of engagement records in first week \\\n",
    "for the students who passed the subway project:\", len(passing_engagement)\n",
    "print \"Number of engagement records in first week \\\n",
    "for the students who did not pass the subway project:\", len(non_passing_engagement)"
   ]
  },
  {
   "cell_type": "markdown",
   "metadata": {},
   "source": [
    "### Comparing the Two Student Groups: Pass vs. Non-Pass"
   ]
  },
  {
   "cell_type": "code",
   "execution_count": 30,
   "metadata": {
    "collapsed": true
   },
   "outputs": [],
   "source": [
    "passing_engagement_by_account = group_data(passing_engagement,'account_key')\n",
    "non_passing_engagement_by_account = group_data(non_passing_engagement, 'account_key')"
   ]
  },
  {
   "cell_type": "code",
   "execution_count": 31,
   "metadata": {
    "collapsed": false
   },
   "outputs": [
    {
     "name": "stdout",
     "output_type": "stream",
     "text": [
      "Passing Students Total Minutes Statistics\n",
      "Mean:  394.586046484\n",
      "Standard Deviation:  448.499519327\n",
      "Mimimum:  0.0\n",
      "Maximum:  3564.7332645\n",
      "\n",
      "Non-Passing Students Total Minutes Statistics\n",
      "Mean:  143.326474267\n",
      "Standard Deviation:  269.538619011\n",
      "Mimimum:  0.0\n",
      "Maximum:  1768.52274933\n"
     ]
    }
   ],
   "source": [
    "# Compare total minutes between two groups\n",
    "passing_total_minutes = sum_grouped_items(passing_engagement_by_account, 'total_minutes_visited')\n",
    "non_passing_total_minutes = sum_grouped_items(non_passing_engagement_by_account, 'total_minutes_visited')\n",
    "\n",
    "print \"Passing Students Total Minutes Statistics\"\n",
    "describe_data(passing_total_minutes.values())\n",
    "print\"\\nNon-Passing Students Total Minutes Statistics\" \n",
    "describe_data(non_passing_total_minutes.values())"
   ]
  },
  {
   "cell_type": "code",
   "execution_count": 32,
   "metadata": {
    "collapsed": false
   },
   "outputs": [
    {
     "name": "stdout",
     "output_type": "stream",
     "text": [
      "Passing Students Total Completed-Lessons Statistics\n",
      "Mean:  2.05255023184\n",
      "Standard Deviation:  3.14222705558\n",
      "Mimimum:  0\n",
      "Maximum:  36\n",
      "\n",
      "Non-Passing Students Total Completed-Lessons Statistics\n",
      "Mean:  0.862068965517\n",
      "Standard Deviation:  2.54915994183\n",
      "Mimimum:  0\n",
      "Maximum:  27\n"
     ]
    }
   ],
   "source": [
    "# Compare total lessons completed between two groups\n",
    "passing_total_lessons = sum_grouped_items(passing_engagement_by_account, 'lessons_completed')\n",
    "non_passing_total_lessons = sum_grouped_items(non_passing_engagement_by_account, 'lessons_completed')\n",
    "\n",
    "print \"Passing Students Total Completed-Lessons Statistics\"\n",
    "describe_data(passing_total_lessons.values())\n",
    "print\"\\nNon-Passing Students Total Completed-Lessons Statistics\" \n",
    "describe_data(non_passing_total_lessons.values())"
   ]
  },
  {
   "cell_type": "code",
   "execution_count": 33,
   "metadata": {
    "collapsed": false
   },
   "outputs": [
    {
     "name": "stdout",
     "output_type": "stream",
     "text": [
      "Passing Students Total Days Visited Statistics\n",
      "Mean:  3.38485316847\n",
      "Standard Deviation:  2.25882147092\n",
      "Mimimum:  0\n",
      "Maximum:  7\n",
      "\n",
      "Non-Passing Students Total Days Visited Statistics\n",
      "Mean:  1.90517241379\n",
      "Standard Deviation:  1.90573144136\n",
      "Mimimum:  0\n",
      "Maximum:  7\n"
     ]
    }
   ],
   "source": [
    "# Compare total days visted between two groups\n",
    "passing_total_days_visited = sum_grouped_items(passing_engagement_by_account, 'has_visited')\n",
    "non_passing_total_days_visited = sum_grouped_items(non_passing_engagement_by_account, 'has_visited')\n",
    "\n",
    "print \"Passing Students Total Days Visited Statistics\"\n",
    "describe_data(passing_total_days_visited.values())\n",
    "print\"\\nNon-Passing Students Total Days Visited Statistics\" \n",
    "describe_data(non_passing_total_days_visited.values())"
   ]
  },
  {
   "cell_type": "markdown",
   "metadata": {},
   "source": [
    "### Making Histograms"
   ]
  },
  {
   "cell_type": "code",
   "execution_count": 34,
   "metadata": {
    "collapsed": false
   },
   "outputs": [],
   "source": [
    "%matplotlib inline\n",
    "import matplotlib.pyplot as plt\n",
    "\n",
    "def describe_data(data):\n",
    "    print \"Mean: \", np.mean(data)\n",
    "    print \"Standard Deviation: \", np.std(data)\n",
    "    print \"Minimum: \", np.min(data)\n",
    "    print \"Maximum: \", np.max(data)\n",
    "    plt.hist(data, alpha = 0.6)"
   ]
  },
  {
   "cell_type": "code",
   "execution_count": 35,
   "metadata": {
    "collapsed": false
   },
   "outputs": [
    {
     "name": "stdout",
     "output_type": "stream",
     "text": [
      "Mean:  394.586046484\n",
      "Standard Deviation:  448.499519327\n",
      "Minimum:  0.0\n",
      "Maximum:  3564.7332645\n",
      "Mean:  143.326474267\n",
      "Standard Deviation:  269.538619011\n",
      "Minimum:  0.0\n",
      "Maximum:  1768.52274933\n"
     ]
    },
    {
     "data": {
      "image/png": "[encoded data removed]",
      "text/plain": [
       "<matplotlib.figure.Figure at 0x110727390>"
      ]
     },
     "metadata": {},
     "output_type": "display_data"
    }
   ],
   "source": [
    "import seaborn as sns\n",
    "\n",
    "describe_data(passing_total_minutes.values())\n",
    "describe_data(non_passing_total_minutes.values())"
   ]
  },
  {
   "cell_type": "markdown",
   "metadata": {},
   "source": [
    "### Further Findings"
   ]
  },
  {
   "cell_type": "code",
   "execution_count": 36,
   "metadata": {
    "collapsed": false
   },
   "outputs": [
    {
     "data": {
      "text/plain": [
       "566"
      ]
     },
     "execution_count": 36,
     "metadata": {},
     "output_type": "execute_result"
    }
   ],
   "source": [
    "quitters = []\n",
    "for enrollment in non_udacity_enrollments:\n",
    "    if enrollment['is_udacity'] == False and enrollment['days_to_cancel'] > 7:\n",
    "        quitters.append(enrollment)\n",
    "len(quitters)"
   ]
  },
  {
   "cell_type": "code",
   "execution_count": 37,
   "metadata": {
    "collapsed": false
   },
   "outputs": [
    {
     "name": "stdout",
     "output_type": "stream",
     "text": [
      "Mean:  93.2157303371\n",
      "Standard Deviation:  57.6713137245\n",
      "Minimum:  8\n",
      "Maximum:  264\n"
     ]
    },
    {
     "data": {
      "image/png": "[encoded data removed]",
      "text/plain": [
       "<matplotlib.figure.Figure at 0x1107270d0>"
      ]
     },
     "metadata": {},
     "output_type": "display_data"
    }
   ],
   "source": [
    "quitter = group_data(quitters,\"account_key\")\n",
    "days_to_cancel_quitter = sum_grouped_items(quitter,\"days_to_cancel\")\n",
    "describe_data(days_to_cancel_quitter.values())"
   ]
  },
  {
   "cell_type": "code",
   "execution_count": 38,
   "metadata": {
    "collapsed": false
   },
   "outputs": [
    {
     "data": {
      "text/plain": [
       "445"
      ]
     },
     "execution_count": 38,
     "metadata": {},
     "output_type": "execute_result"
    }
   ],
   "source": [
    "canceled_after_trial = set()\n",
    "for enrollment in non_udacity_enrollments:\n",
    "    if enrollment['days_to_cancel'] > 7 and enrollment['is_udacity'] == False:\n",
    "        canceled_after_trial.add(enrollment['account_key'])\n",
    "len(canceled_after_trial)"
   ]
  },
  {
   "cell_type": "code",
   "execution_count": 39,
   "metadata": {
    "collapsed": false
   },
   "outputs": [],
   "source": [
    "quitter_engagement = []\n",
    "for engagement_record in non_udacity_engagement:\n",
    "    account_key = engagement_record['account_key']\n",
    "    if account_key in canceled_after_trial:\n",
    "        quitter_engagement.append(engagement_record)"
   ]
  },
  {
   "cell_type": "code",
   "execution_count": 40,
   "metadata": {
    "collapsed": false
   },
   "outputs": [
    {
     "name": "stdout",
     "output_type": "stream",
     "text": [
      "Total Minutes: \n",
      "Mean:  2735.67872139\n",
      "Standard Deviation:  3057.26361332\n",
      "Minimum:  0.0\n",
      "Maximum:  25114.2245857\n"
     ]
    },
    {
     "data": {
      "image/png": "[encoded data removed]",
      "text/plain": [
       "<matplotlib.figure.Figure at 0x122f16c90>"
      ]
     },
     "metadata": {},
     "output_type": "display_data"
    }
   ],
   "source": [
    "quitter_engagement_by_account = group_data(quitter_engagement,'account_key')\n",
    "\n",
    "total_minutes_quitter = sum_grouped_items(quitter_engagement_by_account,\"total_minutes_visited\")\n",
    "\n",
    "total_lessons_quitter = sum_grouped_items(quitter_engagement_by_account,\"lessons_completed\")\n",
    "\n",
    "total_days_visited_quitter = sum_grouped_items(quitter_engagement_by_account,\"has_visited\")\n",
    "\n",
    "print \"Total Minutes: \"\n",
    "describe_data(total_minutes_quitter.values())"
   ]
  },
  {
   "cell_type": "code",
   "execution_count": 41,
   "metadata": {
    "collapsed": false
   },
   "outputs": [
    {
     "name": "stdout",
     "output_type": "stream",
     "text": [
      "Total Lessons: \n",
      "Mean:  13.6426966292\n",
      "Standard Deviation:  15.4531687427\n",
      "Minimum:  0\n",
      "Maximum:  65\n"
     ]
    },
    {
     "data": {
      "image/png": "[encoded data removed]",
      "text/plain": [
       "<matplotlib.figure.Figure at 0x123a47b50>"
      ]
     },
     "metadata": {},
     "output_type": "display_data"
    }
   ],
   "source": [
    "print \"Total Lessons: \"\n",
    "describe_data(total_lessons_quitter.values())"
   ]
  },
  {
   "cell_type": "code",
   "execution_count": 42,
   "metadata": {
    "collapsed": false
   },
   "outputs": [
    {
     "name": "stdout",
     "output_type": "stream",
     "text": [
      "Total Days Visited:\n",
      "Mean:  30.7101123596\n",
      "Standard Deviation:  30.2377695396\n",
      "Minimum:  0\n",
      "Maximum:  171\n"
     ]
    },
    {
     "data": {
      "image/png": "[encoded data removed]",
      "text/plain": [
       "<matplotlib.figure.Figure at 0x122cc3510>"
      ]
     },
     "metadata": {},
     "output_type": "display_data"
    }
   ],
   "source": [
    "print \"Total Days Visited:\"\n",
    "describe_data(total_days_visited_quitter.values())"
   ]
  },
  {
   "cell_type": "code",
   "execution_count": 43,
   "metadata": {
    "collapsed": false
   },
   "outputs": [
    {
     "data": {
      "text/plain": [
       "<matplotlib.text.Text at 0x1240b4910>"
      ]
     },
     "execution_count": 43,
     "metadata": {},
     "output_type": "execute_result"
    },
    {
     "data": {
      "image/png": "[encoded data removed]",
      "text/plain": [
       "<matplotlib.figure.Figure at 0x123f36b90>"
      ]
     },
     "metadata": {},
     "output_type": "display_data"
    }
   ],
   "source": [
    "import seaborn as sns\n",
    "plt.hist(passing_total_days_visited.values(),bins = 8)\n",
    "plt.xlabel(\"Number of days\")\n",
    "plt.title(\"Distribution of classroom visits in the first week \" + \"for students who pass the subway project\")"
   ]
  }
 ],
 "metadata": {
  "kernelspec": {
   "display_name": "Python 2",
   "language": "python",
   "name": "python2"
  },
  "language_info": {
   "codemirror_mode": {
    "name": "ipython",
    "version": 2
   },
   "file_extension": ".py",
   "mimetype": "text/x-python",
   "name": "python",
   "nbconvert_exporter": "python",
   "pygments_lexer": "ipython2",
   "version": "2.7.12"
  }
 },
 "nbformat": 4,
 "nbformat_minor": 0
}
